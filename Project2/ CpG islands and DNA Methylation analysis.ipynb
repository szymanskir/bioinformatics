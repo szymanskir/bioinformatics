{
 "cells": [
  {
   "cell_type": "markdown",
   "metadata": {},
   "source": [
    "# Imports"
   ]
  },
  {
   "cell_type": "code",
   "execution_count": 2,
   "metadata": {},
   "outputs": [],
   "source": [
    "%matplotlib inline\n",
    "from pybedtools import BedTool\n",
    "from pybedtools.featurefuncs import midpoint\n",
    "from collections import Counter\n",
    "import matplotlib.pyplot as plt\n",
    "import seaborn as sns\n",
    "sns.set()"
   ]
  },
  {
   "cell_type": "markdown",
   "metadata": {},
   "source": [
    "# Functions"
   ]
  },
  {
   "cell_type": "code",
   "execution_count": 3,
   "metadata": {},
   "outputs": [],
   "source": [
    "def read_cpg_islands(filepath):\n",
    "    def line_to_dict(line):\n",
    "        values = line.split()\n",
    "        return f'{values[1]} {values[2]} {values[3]}'\n",
    "    with open(filepath, 'r') as f:\n",
    "        content = f.readlines()\n",
    "    return keep_autosomal_chromosomes(\n",
    "        BedTool('\\n'.join([line_to_dict(l) for l in content]), from_string=True))\n",
    "\n",
    "def keep_autosomal_chromosomes(records):\n",
    "    autosomal_chromosomes = [f'chr{ind}' for ind in range(1, 23)]\n",
    "    return BedTool([record for record in records\n",
    "                if record[0] in autosomal_chromosomes])"
   ]
  },
  {
   "cell_type": "markdown",
   "metadata": {},
   "source": [
    "# Task 1"
   ]
  },
  {
   "cell_type": "code",
   "execution_count": 4,
   "metadata": {},
   "outputs": [],
   "source": [
    "cpg_islands = read_cpg_islands('./cpgIslandExt.txt')\n",
    "genome_sizes = BedTool('./hg19.chrom.sizes')"
   ]
  },
  {
   "cell_type": "code",
   "execution_count": 5,
   "metadata": {},
   "outputs": [],
   "source": [
    "shore_flank_size = 2000\n",
    "shelf_flank_size = 2000"
   ]
  },
  {
   "cell_type": "code",
   "execution_count": 6,
   "metadata": {},
   "outputs": [],
   "source": [
    "shores = cpg_islands.flank(genome='hg19', b=shore_flank_size)"
   ]
  },
  {
   "cell_type": "code",
   "execution_count": 7,
   "metadata": {},
   "outputs": [],
   "source": [
    "# prevent cpg island overlap\n",
    "shores = shores.subtract(cpg_islands).sort().merge()"
   ]
  },
  {
   "cell_type": "code",
   "execution_count": 8,
   "metadata": {},
   "outputs": [],
   "source": [
    "shelves = shores.flank(genome='hg19', b=shelf_flank_size).subtract(shores).subtract(cpg_islands).merge()"
   ]
  },
  {
   "cell_type": "code",
   "execution_count": 9,
   "metadata": {},
   "outputs": [],
   "source": [
    "combined_beds = BedTool(list(shores) + list(shelves) + list(cpg_islands))"
   ]
  },
  {
   "cell_type": "code",
   "execution_count": 10,
   "metadata": {},
   "outputs": [],
   "source": [
    "seas = combined_beds.sort().complement(genome='hg19').merge()"
   ]
  },
  {
   "cell_type": "markdown",
   "metadata": {},
   "source": [
    "## Save results"
   ]
  },
  {
   "cell_type": "code",
   "execution_count": 11,
   "metadata": {},
   "outputs": [],
   "source": [
    "for bed, filename in zip([cpg_islands, shores, shelves, seas], ['cpg.bed', 'shores.bed', 'shelves.bed', 'seas.bed']):\n",
    "    bed.saveas(filename)"
   ]
  },
  {
   "cell_type": "markdown",
   "metadata": {},
   "source": [
    "# Task 2"
   ]
  },
  {
   "cell_type": "code",
   "execution_count": 12,
   "metadata": {},
   "outputs": [],
   "source": [
    "methylations_data = BedTool('./wgEncodeHaibMethyl450A549Etoh02SitesRep1.bed.gz')\n",
    "autosomal_methylations_data = keep_autosomal_chromosomes(methylations_data)\n",
    "autosomal_methylations_data = BedTool([midpoint(m) for m in autosomal_methylations_data])"
   ]
  },
  {
   "cell_type": "markdown",
   "metadata": {},
   "source": [
    "# Task 3"
   ]
  },
  {
   "cell_type": "code",
   "execution_count": 13,
   "metadata": {},
   "outputs": [],
   "source": [
    "def get_hits(chromosome_ranges, metylations):\n",
    "    return len(metylations.intersect(chromosome_ranges, u=True))"
   ]
  },
  {
   "cell_type": "code",
   "execution_count": 14,
   "metadata": {},
   "outputs": [],
   "source": [
    "hit_counts = {name: get_hits(bed, autosomal_methylations_data) \n",
    "        for bed, name in zip([cpg_islands, shores, shelves, seas], ['cpg', 'shores', 'shelves', 'seas'])}\n",
    "    \n",
    "sorted_hits = dict(sorted(hit_counts.items(), key=lambda kv: kv[1]))"
   ]
  },
  {
   "cell_type": "code",
   "execution_count": 15,
   "metadata": {},
   "outputs": [],
   "source": [
    "counts = sum(hit_counts.values())\n",
    "percentages = {area: hit_counts[area] / counts for area in sorted_hits}"
   ]
  },
  {
   "cell_type": "code",
   "execution_count": 16,
   "metadata": {},
   "outputs": [
    {
     "data": {
      "image/png": "[encoded data removed]",
      "text/plain": [
       "<Figure size 432x288 with 1 Axes>"
      ]
     },
     "metadata": {
      "needs_background": "light"
     },
     "output_type": "display_data"
    }
   ],
   "source": [
    "fib, ax = plt.subplots()\n",
    "ax.barh(list(sorted_hits.keys()), sorted_hits.values())\n",
    "ax.set_xlabel('Methylation hits percentage')\n",
    "ax.set_ylabel('Chromosome Range type')\n",
    "ax.set_title('Percentage of methylations per chromosome range types')\n",
    "ax.set_xlim(0, 205000)\n",
    "plt.xticks(rotation=45)\n",
    "\n",
    "for i, v in enumerate(sorted_hits.values()):\n",
    "    ax.text(v + 1000, i - 0.1, f'{round(100 * list(percentages.values())[i], 2)}%', fontweight='bold')"
   ]
  }
 ],
 "metadata": {
  "kernelspec": {
   "display_name": "Python 3",
   "language": "python",
   "name": "python3"
  },
  "language_info": {
   "codemirror_mode": {
    "name": "ipython",
    "version": 3
   },
   "file_extension": ".py",
   "mimetype": "text/x-python",
   "name": "python",
   "nbconvert_exporter": "python",
   "pygments_lexer": "ipython3",
   "version": "3.7.3"
  }
 },
 "nbformat": 4,
 "nbformat_minor": 2
}
