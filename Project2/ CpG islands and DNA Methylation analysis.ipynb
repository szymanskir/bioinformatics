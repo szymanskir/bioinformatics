{
 "cells": [
  {
   "cell_type": "markdown",
   "metadata": {},
   "source": [
    "# Data download"
   ]
  },
  {
   "cell_type": "code",
   "execution_count": 30,
   "metadata": {},
   "outputs": [
    {
     "name": "stdout",
     "output_type": "stream",
     "text": [
      "--2019-11-17 23:05:13--  http://hgdownload.cse.ucsc.edu/goldenpath/hg19/database/cpgIslandExt.txt.gz\n",
      "Resolving hgdownload.cse.ucsc.edu (hgdownload.cse.ucsc.edu)... 128.114.119.163\n",
      "Connecting to hgdownload.cse.ucsc.edu (hgdownload.cse.ucsc.edu)|128.114.119.163|:80... connected.\n",
      "HTTP request sent, awaiting response... 200 OK\n",
      "Length: 646179 (631K) [application/x-gzip]\n",
      "Saving to: ‘cpgIslandExt.txt.gz’\n",
      "\n",
      "cpgIslandExt.txt.gz 100%[===================>] 631,03K   107KB/s    in 6,1s    \n",
      "\n",
      "2019-11-17 23:05:19 (104 KB/s) - ‘cpgIslandExt.txt.gz’ saved [646179/646179]\n",
      "\n",
      "--2019-11-17 23:05:20--  http://hgdownload.soe.ucsc.edu/goldenPath/hg19/encodeDCC/wgEncodeHaibMethyl450/wgEncodeHaibMethyl450A549Etoh02SitesRep1.bed.gz\n",
      "Resolving hgdownload.soe.ucsc.edu (hgdownload.soe.ucsc.edu)... 128.114.119.163\n",
      "Connecting to hgdownload.soe.ucsc.edu (hgdownload.soe.ucsc.edu)|128.114.119.163|:80... connected.\n",
      "HTTP request sent, awaiting response... 200 OK\n",
      "Length: 9038203 (8,6M) [application/x-gzip]\n",
      "Saving to: ‘wgEncodeHaibMethyl450A549Etoh02SitesRep1.bed.gz’\n",
      "\n",
      "wgEncodeHaibMethyl4 100%[===================>]   8,62M   616KB/s    in 22s     \n",
      "\n",
      "2019-11-17 23:05:43 (393 KB/s) - ‘wgEncodeHaibMethyl450A549Etoh02SitesRep1.bed.gz’ saved [9038203/9038203]\n",
      "\n",
      "--2019-11-17 23:05:43--  http://hgdownload.cse.ucsc.edu/goldenPath/hg19/bigZips/hg19.chrom.sizes\n",
      "Resolving hgdownload.cse.ucsc.edu (hgdownload.cse.ucsc.edu)... 128.114.119.163\n",
      "Connecting to hgdownload.cse.ucsc.edu (hgdownload.cse.ucsc.edu)|128.114.119.163|:80... connected.\n",
      "HTTP request sent, awaiting response... 200 OK\n",
      "Length: 1971 (1,9K) [text/plain]\n",
      "Saving to: ‘hg19.chrom.sizes’\n",
      "\n",
      "hg19.chrom.sizes    100%[===================>]   1,92K  --.-KB/s    in 0s      \n",
      "\n",
      "2019-11-17 23:05:43 (66,2 MB/s) - ‘hg19.chrom.sizes’ saved [1971/1971]\n",
      "\n"
     ]
    }
   ],
   "source": [
    "! wget http://hgdownload.cse.ucsc.edu/goldenpath/hg19/database/cpgIslandExt.txt.gz\n",
    "! gunzip cpgIslandExt.txt.gz\n",
    "! wget http://hgdownload.soe.ucsc.edu/goldenPath/hg19/encodeDCC/wgEncodeHaibMethyl450/wgEncodeHaibMethyl450A549Etoh02SitesRep1.bed.gz\n",
    "! wget http://hgdownload.cse.ucsc.edu/goldenPath/hg19/bigZips/hg19.chrom.sizes"
   ]
  },
  {
   "cell_type": "markdown",
   "metadata": {},
   "source": [
    "# Task 1"
   ]
  },
  {
   "cell_type": "code",
   "execution_count": 31,
   "metadata": {},
   "outputs": [],
   "source": [
    "class DNASequence:\n",
    "    def __init__(self):\n",
    "        self.chromosomes = dict()\n",
    "    \n",
    "    def __str__(self):\n",
    "        return '\\n'.join([str(r) for r in self._sequence])\n",
    "    \n",
    "    def __len__(self):\n",
    "        return len(self._sequence)\n",
    "    \n",
    "    def __getitem__(self, ind):\n",
    "        return self._sequence[ind]\n",
    "    \n",
    "    def get_coordinate_region(self, coordinate):\n",
    "        seq = self.chromosomes[coordinate.chromosome]\n",
    "        for r in seq:\n",
    "            if r.contains(coordinate.coordinate):\n",
    "                return r.variety\n",
    "        print(seq[len(seq) - 1])\n",
    "        print(coordinate)\n",
    "        raise KeyError()\n",
    "        \n",
    "    def append(self, chromosome_range):\n",
    "        if chromosome_range.has_valid_range():\n",
    "            if chromosome_range.chromosome not in self.chromosomes.keys():\n",
    "                self.chromosomes[chromosome_range.chromosome] = list()\n",
    "            self.chromosomes[chromosome_range.chromosome].append(chromosome_range)\n",
    "            \n",
    "    def extend(self, chromosome_ranges):\n",
    "        for chromosome_range in chromosome_ranges:\n",
    "            self.append(chromosome_range)\n",
    "            \n",
    "\n",
    "class ChromosomeRange:\n",
    "    def __init__(self, variety, chromosome, start, stop):\n",
    "        self.variety = variety\n",
    "        self.chromosome = chromosome\n",
    "        self.start = start\n",
    "        self.stop = stop\n",
    "        \n",
    "    def __repr__(self):\n",
    "        return f'ChromosomeRange<variety: {self.variety}, chromosome: {self.chromosome} start:{self.start}, stop:{self.stop}'\n",
    "        \n",
    "    def __str__(self):\n",
    "        return f'{self.variety} of {self.chromosome} in range ({self.start}, {self.stop})'\n",
    "    \n",
    "    def has_valid_range(self):\n",
    "        return self.start < self.stop\n",
    "    \n",
    "    def contains(self, x):\n",
    "        return self.start <= x and self.stop >= x\n",
    "    \n",
    "    def to_dict(self):\n",
    "        return {\n",
    "            'variety': self.variety,\n",
    "            'chromosome': self.chromosome,\n",
    "            'start': self.start,\n",
    "            'stop': self.stop\n",
    "        }\n",
    "    \n",
    "    @classmethod\n",
    "    def from_dict(cls, row):\n",
    "        return cls(\n",
    "            variety = 'CpG island',\n",
    "            chromosome = row['chromosome'],\n",
    "            start = row['start'],\n",
    "            stop = row['stop']    \n",
    "        )\n",
    "    \n",
    "class ChromosomeCoordinate:\n",
    "    def __init__(self, chromosome, coordinate):\n",
    "        self.chromosome = chromosome\n",
    "        self.coordinate = coordinate\n",
    "        \n",
    "    def __repr__(self):\n",
    "        return f'ChromosomeCoordinate(chromosome={self.chromosome}, coordinate={self.coordinate})'\n",
    "    \n",
    "    def __str__(self):\n",
    "        return f'Chromosome={self.chromosome}, Coordinate: {self.coordinate}'\n",
    "    \n",
    "    @classmethod\n",
    "    def from_dict(cls, dct):\n",
    "        return cls(dct['chromosome'], dct['coordinate'])\n",
    "\n",
    "def get_begin_ranges(cpg, left_bound, shore_margin, shelf_margin):\n",
    "    begin_shore_start = max(left_bound, left_cpg.start - shore_margin)\n",
    "    begin_shelf_start = max(left_bound, begin_shore_start - shelf_margin)\n",
    "    return [\n",
    "            ChromosomeRange('sea', cpg.chromosome, left_bound, begin_shelf_start),\n",
    "            ChromosomeRange('shelf', cpg.chromosome, begin_shelf_start + 1, begin_shore_start),\n",
    "            ChromosomeRange('shore', cpg.chromosome, begin_shore_start + 1, left_cpg.start - 1),\n",
    "    ]\n",
    "        \n",
    "def get_end_ranges(cpg, right_bound, shore_margin, shelf_margin):\n",
    "    end_shore_stop = min(cpg.stop + shore_margin, right_bound)\n",
    "    end_shelf_stop = min(end_shore_stop + shelf_margin, right_bound)\n",
    "    return [\n",
    "        cpg,\n",
    "        ChromosomeRange('shore', cpg.chromosome, cpg.stop + 1, end_shore_stop),\n",
    "        ChromosomeRange('shelf', cpg.chromosome, end_shore_stop + 1, end_shelf_stop),\n",
    "        ChromosomeRange('sea', cpg.chromosome, end_shelf_stop + 1, right_bound),\n",
    "    ]\n",
    "    \n",
    "def get_ranges(left_range, right_range, shore_margin, shelf_margin):\n",
    "    left_shore_stop = min(left_range.stop + shore_margin, right_range.start)\n",
    "    left_shelf_stop = min(left_shore_stop + shelf_margin, right_range.start)\n",
    "    right_shore_start = max(left_range.stop, right_range.start - shore_margin)\n",
    "    right_shelf_start = max(left_range.stop, right_shore_start - shelf_margin)\n",
    "    return [\n",
    "        left_range,\n",
    "        ChromosomeRange('shore', left_range.chromosome, left_range.stop + 1, left_shore_stop),\n",
    "        ChromosomeRange('shelf', left_range.chromosome, left_shore_stop + 1, left_shelf_stop),\n",
    "        ChromosomeRange('sea', left_range.chromosome, left_shelf_stop + 1, right_shelf_start),\n",
    "        ChromosomeRange('shelf', left_range.chromosome, right_shelf_start + 1, right_shore_start),\n",
    "        ChromosomeRange('shore', left_range.chromosome, right_shore_start + 1, right_range.start - 1)\n",
    "    ]"
   ]
  },
  {
   "cell_type": "code",
   "execution_count": 32,
   "metadata": {},
   "outputs": [],
   "source": [
    "def keep_autosomal_chromosomes(records):\n",
    "    autosomal_chromosomes = [f'chr{ind}' for ind in range(1, 23)]\n",
    "    return [record for record in records\n",
    "            if record['chromosome'] in autosomal_chromosomes]"
   ]
  },
  {
   "cell_type": "code",
   "execution_count": 33,
   "metadata": {},
   "outputs": [],
   "source": [
    "def read_cpg_islands(filepath):\n",
    "    def line_to_dict(line):\n",
    "        values = line.split()\n",
    "        return {\n",
    "            'chromosome': values[1],\n",
    "            'start': int(values[2]),\n",
    "            'stop': int(values[3])\n",
    "        }\n",
    "    with open(filepath, 'r') as f:\n",
    "        content = f.readlines()\n",
    "    return keep_autosomal_chromosomes([line_to_dict(l) for l in content])"
   ]
  },
  {
   "cell_type": "code",
   "execution_count": 34,
   "metadata": {},
   "outputs": [],
   "source": [
    "def read_chromosome_sizes(filepath):\n",
    "    with open(filepath, 'r') as f:\n",
    "        content = f.readlines()\n",
    "    return {\n",
    "        line.split()[0]: int(line.split()[1])\n",
    "        for line in content\n",
    "    }\n",
    "    "
   ]
  },
  {
   "cell_type": "code",
   "execution_count": 35,
   "metadata": {},
   "outputs": [],
   "source": [
    "cpg_islands = read_cpg_islands('./cpgIslandExt.txt')\n",
    "chromosome_sizes = read_chromosome_sizes('./hg19.chrom.sizes')"
   ]
  },
  {
   "cell_type": "code",
   "execution_count": 36,
   "metadata": {},
   "outputs": [],
   "source": [
    "sequence = DNASequence()\n",
    "shore_margin = 2 * 2**10 * 8\n",
    "shelf_margin = 2 * 2**10 * 8\n",
    "cpg_islands_count = len(cpg_islands)\n",
    "\n",
    "for index in range(0, cpg_islands_count - 1):\n",
    "    left_cpg = ChromosomeRange.from_dict(cpg_islands[index])\n",
    "    right_cpg = ChromosomeRange.from_dict(cpg_islands[index + 1])\n",
    "    \n",
    "    # first island pair\n",
    "    if index == 0:\n",
    "        begin_ranges = get_begin_ranges(left_cpg, 0, shore_margin, shelf_margin)\n",
    "        sequence.extend(begin_ranges)\n",
    "    \n",
    "    # between islands\n",
    "    if left_cpg.chromosome == right_cpg.chromosome:\n",
    "        # islands of the same chromosome\n",
    "        chromosome_ranges = get_ranges(left_cpg, right_cpg, shore_margin, shelf_margin)\n",
    "        sequence.extend(chromosome_ranges)\n",
    "    else:\n",
    "        # islands of different chromosomes\n",
    "        left_ranges = get_end_ranges(left_cpg, chromosome_sizes[left_cpg.chromosome], shore_margin, shelf_margin)\n",
    "        right_ranges = get_begin_ranges(right_cpg, 0, shore_margin, shelf_margin)\n",
    "        sequence.extend(left_ranges + right_ranges)\n",
    " \n",
    "    \n",
    "    # last island pair\n",
    "    if index == cpg_islands_count - 2:\n",
    "        end_ranges = get_end_ranges(right_cpg, chromosome_sizes[right_cpg.chromosome], shore_margin, shelf_margin)\n",
    "        sequence.extend(end_ranges)\n",
    "    \n",
    "    chromosome_ranges = get_ranges(left_cpg, right_cpg, shore_margin, shelf_margin)"
   ]
  },
  {
   "cell_type": "code",
   "execution_count": 37,
   "metadata": {},
   "outputs": [],
   "source": [
    "from pybedtools import BedTool\n",
    "def save_coordinates(sequence, variety, filename):\n",
    "    lines = list()\n",
    "    for chromosome in sequence.chromosomes:\n",
    "        for r in sequence.chromosomes[chromosome]:\n",
    "            if r.variety == variety:\n",
    "                lines.append(f\"{r.chromosome} {r.start} {r.stop}\")\n",
    "    bed_string = '\\n'.join(lines)\n",
    "    BedTool(bed_string, from_string=True).saveas(filename)"
   ]
  },
  {
   "cell_type": "code",
   "execution_count": 38,
   "metadata": {},
   "outputs": [],
   "source": [
    "for variety in ['Cpg Island', 'sea', 'shore', 'shelf']:\n",
    "    save_coordinates(sequence, variety, f'{variety}.bed')"
   ]
  },
  {
   "cell_type": "markdown",
   "metadata": {},
   "source": [
    "# Task 2"
   ]
  },
  {
   "cell_type": "code",
   "execution_count": 39,
   "metadata": {},
   "outputs": [],
   "source": [
    "from pybedtools import BedTool\n",
    "def parse_metylations_record(record):\n",
    "    return {\n",
    "        'chromosome': record[0],\n",
    "        'coordinate': (int(record[1]) + int(record[2])) / 2\n",
    "    }\n",
    "methylations_data = BedTool('./wgEncodeHaibMethyl450A549Etoh02SitesRep1.bed.gz')\n",
    "methylations = keep_autosomal_chromosomes([parse_metylations_record(record) for record in methylations_data])\n",
    "methylations = [ChromosomeCoordinate.from_dict(r) for r in methylations]"
   ]
  },
  {
   "cell_type": "code",
   "execution_count": 40,
   "metadata": {},
   "outputs": [
    {
     "data": {
      "text/plain": [
       "482421"
      ]
     },
     "execution_count": 40,
     "metadata": {},
     "output_type": "execute_result"
    }
   ],
   "source": [
    "len(methylations_data)"
   ]
  },
  {
   "cell_type": "code",
   "execution_count": 41,
   "metadata": {
    "scrolled": false
   },
   "outputs": [
    {
     "data": {
      "text/plain": [
       "[ChromosomeCoordinate(chromosome=chr16, coordinate=53468137.0),\n",
       " ChromosomeCoordinate(chromosome=chr3, coordinate=37459231.0),\n",
       " ChromosomeCoordinate(chromosome=chr3, coordinate=171916062.0),\n",
       " ChromosomeCoordinate(chromosome=chr1, coordinate=91194699.0),\n",
       " ChromosomeCoordinate(chromosome=chr8, coordinate=42263319.0)]"
      ]
     },
     "execution_count": 41,
     "metadata": {},
     "output_type": "execute_result"
    }
   ],
   "source": [
    "methylations[0:5]"
   ]
  },
  {
   "cell_type": "code",
   "execution_count": 42,
   "metadata": {},
   "outputs": [],
   "source": [
    "methylations.sort(key = lambda x: (x.chromosome, x.coordinate))"
   ]
  },
  {
   "cell_type": "markdown",
   "metadata": {},
   "source": [
    "# Task 3"
   ]
  },
  {
   "cell_type": "code",
   "execution_count": null,
   "metadata": {
    "scrolled": true
   },
   "outputs": [],
   "source": [
    "areas = list()\n",
    "\n",
    "for m in methylations:\n",
    "    areas.append(sequence.get_coordinate_region(m))"
   ]
  },
  {
   "cell_type": "code",
   "execution_count": null,
   "metadata": {},
   "outputs": [],
   "source": [
    "from collections import Counter\n",
    "counts = Counter(areas)"
   ]
  },
  {
   "cell_type": "code",
   "execution_count": null,
   "metadata": {},
   "outputs": [],
   "source": [
    "total = sum(counts.values())\n",
    "percentages = counts.copy()\n",
    "\n",
    "for p in percentages:\n",
    "    percentages[p] /= total\n",
    "    \n",
    "percentages"
   ]
  },
  {
   "cell_type": "code",
   "execution_count": null,
   "metadata": {},
   "outputs": [],
   "source": [
    "%matplotlib inline\n",
    "import matplotlib.pyplot as plt\n",
    "import seaborn as sns\n",
    "sns.set()\n",
    "\n",
    "fig, ax = plt.subplots()\n",
    "ax.barh(list(percentages.keys()), percentages.values())\n",
    "ax.invert_yaxis()\n",
    "ax.set_xlabel('Methylation hits percentage')\n",
    "ax.set_ylabel('Chromosome Range type')\n",
    "ax.set_title('Percentage of methylations per chromosome range types')"
   ]
  }
 ],
 "metadata": {
  "kernelspec": {
   "display_name": "Python 3",
   "language": "python",
   "name": "python3"
  },
  "language_info": {
   "codemirror_mode": {
    "name": "ipython",
    "version": 3
   },
   "file_extension": ".py",
   "mimetype": "text/x-python",
   "name": "python",
   "nbconvert_exporter": "python",
   "pygments_lexer": "ipython3",
   "version": "3.7.3"
  }
 },
 "nbformat": 4,
 "nbformat_minor": 2
}
